{
 "cells": [
  {
   "cell_type": "code",
   "execution_count": 76,
   "id": "e3ff195c",
   "metadata": {},
   "outputs": [],
   "source": [
    "library(tidyverse)"
   ]
  },
  {
   "cell_type": "markdown",
   "id": "d0486091",
   "metadata": {},
   "source": [
    "Q.1\n",
    "* We have use the following dataset in the course material to generate two datasets form the same distribution but which have different sample means\n",
    "  * here I am generating only 5 samples, insteaf of the 40 generated in the course material"
   ]
  },
  {
   "cell_type": "code",
   "execution_count": 77,
   "id": "3b0a10f7",
   "metadata": {},
   "outputs": [
    {
     "data": {
      "text/html": [
       "<table class=\"dataframe\">\n",
       "<caption>A tibble: 10 × 2</caption>\n",
       "<thead>\n",
       "\t<tr><th scope=col>measure</th><th scope=col>site_name</th></tr>\n",
       "\t<tr><th scope=col>&lt;dbl&gt;</th><th scope=col>&lt;chr&gt;</th></tr>\n",
       "</thead>\n",
       "<tbody>\n",
       "\t<tr><td>10.291195</td><td>Site 1</td></tr>\n",
       "\t<tr><td>11.388863</td><td>Site 1</td></tr>\n",
       "\t<tr><td>10.649010</td><td>Site 1</td></tr>\n",
       "\t<tr><td>11.477876</td><td>Site 1</td></tr>\n",
       "\t<tr><td>10.438720</td><td>Site 1</td></tr>\n",
       "\t<tr><td>10.522318</td><td>Site 2</td></tr>\n",
       "\t<tr><td> 9.955392</td><td>Site 2</td></tr>\n",
       "\t<tr><td>11.484413</td><td>Site 2</td></tr>\n",
       "\t<tr><td> 8.408989</td><td>Site 2</td></tr>\n",
       "\t<tr><td>10.225640</td><td>Site 2</td></tr>\n",
       "</tbody>\n",
       "</table>\n"
      ],
      "text/latex": [
       "A tibble: 10 × 2\n",
       "\\begin{tabular}{ll}\n",
       " measure & site\\_name\\\\\n",
       " <dbl> & <chr>\\\\\n",
       "\\hline\n",
       "\t 10.291195 & Site 1\\\\\n",
       "\t 11.388863 & Site 1\\\\\n",
       "\t 10.649010 & Site 1\\\\\n",
       "\t 11.477876 & Site 1\\\\\n",
       "\t 10.438720 & Site 1\\\\\n",
       "\t 10.522318 & Site 2\\\\\n",
       "\t  9.955392 & Site 2\\\\\n",
       "\t 11.484413 & Site 2\\\\\n",
       "\t  8.408989 & Site 2\\\\\n",
       "\t 10.225640 & Site 2\\\\\n",
       "\\end{tabular}\n"
      ],
      "text/markdown": [
       "\n",
       "A tibble: 10 × 2\n",
       "\n",
       "| measure &lt;dbl&gt; | site_name &lt;chr&gt; |\n",
       "|---|---|\n",
       "| 10.291195 | Site 1 |\n",
       "| 11.388863 | Site 1 |\n",
       "| 10.649010 | Site 1 |\n",
       "| 11.477876 | Site 1 |\n",
       "| 10.438720 | Site 1 |\n",
       "| 10.522318 | Site 2 |\n",
       "|  9.955392 | Site 2 |\n",
       "| 11.484413 | Site 2 |\n",
       "|  8.408989 | Site 2 |\n",
       "| 10.225640 | Site 2 |\n",
       "\n"
      ],
      "text/plain": [
       "   measure   site_name\n",
       "1  10.291195 Site 1   \n",
       "2  11.388863 Site 1   \n",
       "3  10.649010 Site 1   \n",
       "4  11.477876 Site 1   \n",
       "5  10.438720 Site 1   \n",
       "6  10.522318 Site 2   \n",
       "7   9.955392 Site 2   \n",
       "8  11.484413 Site 2   \n",
       "9   8.408989 Site 2   \n",
       "10 10.225640 Site 2   "
      ]
     },
     "metadata": {},
     "output_type": "display_data"
    }
   ],
   "source": [
    "set.seed(110)\n",
    "data_1 = tibble(measure=rnorm(5, 10, 1))\n",
    "data_1$site_name <- 'Site 1'\n",
    "data_2 = tibble(measure=rnorm(5, 10, 1))\n",
    "data_2$site_name <- 'Site 2'\n",
    "complete_data = rbind(data_1, data_2)\n",
    "complete_data"
   ]
  },
  {
   "cell_type": "code",
   "execution_count": 30,
   "id": "0272663c",
   "metadata": {},
   "outputs": [
    {
     "name": "stdout",
     "output_type": "stream",
     "text": [
      "\u001b[90m# A tibble: 5 × 2\u001b[39m\n",
      "  measure site_name\n",
      "    \u001b[3m\u001b[90m<dbl>\u001b[39m\u001b[23m \u001b[3m\u001b[90m<chr>\u001b[39m\u001b[23m    \n",
      "\u001b[90m1\u001b[39m    9.53 Site 1   \n",
      "\u001b[90m2\u001b[39m    9.32 Site 1   \n",
      "\u001b[90m3\u001b[39m   11.2  Site 1   \n",
      "\u001b[90m4\u001b[39m    8.93 Site 1   \n",
      "\u001b[90m5\u001b[39m    9.88 Site 1   \n"
     ]
    }
   ],
   "source": [
    "data_1 = tibble(measure=rnorm(5, 10, 1))\n",
    "data_1$site_name <- 'Site 1'\n",
    "print(data_1)"
   ]
  },
  {
   "cell_type": "code",
   "execution_count": null,
   "id": "561899fd",
   "metadata": {},
   "outputs": [],
   "source": [
    "* I compute the mean of the dataset above using the following code:\n",
    "  * feel free to deconstruct the code to see what each chunk does.\n"
   ]
  },
  {
   "cell_type": "code",
   "execution_count": 15,
   "id": "dde6ba00",
   "metadata": {},
   "outputs": [
    {
     "data": {
      "text/html": [
       "10.8491329008612"
      ],
      "text/latex": [
       "10.8491329008612"
      ],
      "text/markdown": [
       "10.8491329008612"
      ],
      "text/plain": [
       "[1] 10.84913"
      ]
     },
     "metadata": {},
     "output_type": "display_data"
    },
    {
     "data": {
      "text/html": [
       "10.1193505444919"
      ],
      "text/latex": [
       "10.1193505444919"
      ],
      "text/markdown": [
       "10.1193505444919"
      ],
      "text/plain": [
       "[1] 10.11935"
      ]
     },
     "metadata": {},
     "output_type": "display_data"
    }
   ],
   "source": [
    "mean(complete_data[complete_data$site_name == \"Site 1\", ]$measure)\n",
    "mean(complete_data[complete_data$site_name == \"Site 2\", ]$measure)"
   ]
  },
  {
   "cell_type": "markdown",
   "id": "1ac520b8",
   "metadata": {},
   "source": [
    "* Use the `tapply` function instead of the code above to compute the means samples from \"Site 1\" and those from site 2\n",
    "  * See tapply for help if needed"
   ]
  },
  {
   "cell_type": "code",
   "execution_count": 22,
   "id": "501355df",
   "metadata": {},
   "outputs": [
    {
     "data": {
      "text/html": [
       "<style>\n",
       ".dl-inline {width: auto; margin:0; padding: 0}\n",
       ".dl-inline>dt, .dl-inline>dd {float: none; width: auto; display: inline-block}\n",
       ".dl-inline>dt::after {content: \":\\0020\"; padding-right: .5ex}\n",
       ".dl-inline>dt:not(:first-of-type) {padding-left: .5ex}\n",
       "</style><dl class=dl-inline><dt>Site 1</dt><dd>10.8491329008612</dd><dt>Site 2</dt><dd>10.1193505444919</dd></dl>\n"
      ],
      "text/latex": [
       "\\begin{description*}\n",
       "\\item[Site 1] 10.8491329008612\n",
       "\\item[Site 2] 10.1193505444919\n",
       "\\end{description*}\n"
      ],
      "text/markdown": [
       "Site 1\n",
       ":   10.8491329008612Site 2\n",
       ":   10.1193505444919\n",
       "\n"
      ],
      "text/plain": [
       "  Site 1   Site 2 \n",
       "10.84913 10.11935 "
      ]
     },
     "metadata": {},
     "output_type": "display_data"
    }
   ],
   "source": [
    "# Write your code here\n",
    "\n",
    "tapply(complete_data$measure, complete_data$site_name, mean)"
   ]
  },
  {
   "cell_type": "markdown",
   "id": "fd91de00",
   "metadata": {},
   "source": [
    "Q.2 \n",
    "Recall that the test conducted on full version of data_1 and data_2 led us to conlclude that the difference between the two datasets is statistically significant, when both samples were in fact from the same distirbution  $\\mathcal{N}(\\mu=10, \\sigma=1)$\n",
    "\n",
    "* Use the boostrapping-based test covered in class to assess whether you arrive at the same conclusion\n",
    "\n",
    "* You can generate the data using the code snippet below\n",
    "\n"
   ]
  },
  {
   "cell_type": "code",
   "execution_count": 78,
   "id": "f129769f",
   "metadata": {},
   "outputs": [],
   "source": [
    "\n",
    "data_1 = tibble(measure=rnorm(40, 10, 1))\n",
    "data_1$site_name <- 'Site 1'\n",
    "data_2 = tibble(measure=rnorm(40, 13, 1))\n",
    "data_2$site_name <- 'Site 2'\n",
    "complete_data = rbind(data_1, data_2)\n"
   ]
  },
  {
   "cell_type": "code",
   "execution_count": 79,
   "id": "6fd0e510",
   "metadata": {},
   "outputs": [
    {
     "data": {
      "image/png": "[encoded data removed]",
      "text/plain": [
       "plot without title"
      ]
     },
     "metadata": {
      "image/png": {
       "height": 420,
       "width": 420
      }
     },
     "output_type": "display_data"
    }
   ],
   "source": [
    "ggplot(complete_data, aes(x=measure, fill = site_name)) + \n",
    "  geom_density(alpha = 0.4, bw =0.60) + \n",
    "  xlim(5,18)\n"
   ]
  },
  {
   "cell_type": "code",
   "execution_count": 80,
   "id": "ca8e2e69",
   "metadata": {},
   "outputs": [],
   "source": [
    "bootstrap_concat = function(data_1, data_2){\n",
    "  \n",
    "  concat_data = c(data_1, data_2)\n",
    "  len_concat_data = length(concat_data)\n",
    "  \n",
    "  len_data_1 = length(data_1)    \n",
    "  shuffled_data = sample(concat_data)\n",
    "  new_data_1 = shuffled_data[1:len_data_1]\n",
    "  new_data_2 = shuffled_data[(len_data_1+1):len_concat_data]\n",
    "  mean(new_data_1) - mean(new_data_2)\n",
    "}"
   ]
  },
  {
   "cell_type": "code",
   "execution_count": 81,
   "id": "cd974011",
   "metadata": {},
   "outputs": [
    {
     "data": {
      "text/html": [
       "-0.080463517514465"
      ],
      "text/latex": [
       "-0.080463517514465"
      ],
      "text/markdown": [
       "-0.080463517514465"
      ],
      "text/plain": [
       "[1] -0.08046352"
      ]
     },
     "metadata": {},
     "output_type": "display_data"
    }
   ],
   "source": [
    "set.seed(110)\n",
    "bootstrap_concat(data_1$measure, data_2$measure)\n",
    "mean_under_null = replicate(1000, bootstrap_concat(data_1$measure, data_2$measure))\n"
   ]
  },
  {
   "cell_type": "code",
   "execution_count": 82,
   "id": "0e976004",
   "metadata": {},
   "outputs": [
    {
     "data": {
      "text/html": [
       "-2.80411753464272"
      ],
      "text/latex": [
       "-2.80411753464272"
      ],
      "text/markdown": [
       "-2.80411753464272"
      ],
      "text/plain": [
       "[1] -2.804118"
      ]
     },
     "metadata": {},
     "output_type": "display_data"
    }
   ],
   "source": [
    "set.seed(110)\n",
    "observed_value = mean(data_1$measure) - mean(data_2$measure)\n",
    "observed_value\n"
   ]
  },
  {
   "cell_type": "code",
   "execution_count": 83,
   "id": "be29c2e2",
   "metadata": {},
   "outputs": [
    {
     "data": {
      "image/png": "[encoded data removed]",
      "text/plain": [
       "plot without title"
      ]
     },
     "metadata": {
      "image/png": {
       "height": 420,
       "width": 420
      }
     },
     "output_type": "display_data"
    }
   ],
   "source": [
    "ggplot()+\n",
    "  geom_histogram(aes(mean_under_null, y=..density..), bins =30, alpha=0.2, color=\"black\") + \n",
    "  geom_density(aes(mean_under_null), bw=0.05, size=0.5) + \n",
    "  xlim(-5, 5) + \n",
    "  geom_point(aes(observed_value, 0), color=\"red\", size=5)\n"
   ]
  },
  {
   "cell_type": "code",
   "execution_count": 43,
   "id": "2f161ea0",
   "metadata": {},
   "outputs": [
    {
     "data": {
      "text/html": [
       "0"
      ],
      "text/latex": [
       "0"
      ],
      "text/markdown": [
       "0"
      ],
      "text/plain": [
       "[1] 0"
      ]
     },
     "metadata": {},
     "output_type": "display_data"
    }
   ],
   "source": [
    "sum(mean_under_null <= observed_value) / length(mean_under_null)\n"
   ]
  },
  {
   "cell_type": "markdown",
   "id": "71226301",
   "metadata": {},
   "source": [
    "Q.3 \n",
    "\n",
    "* The proportion of the of _P. lobata_, _M. capitata_ and _P. mendrina_ at a site X are c(0.60, 0.19, 0.21).\n",
    "* You surveyed a site Y with somewhat differentenvironmental conditions and obtains the following proportions for the same coral (0.61, 0.19, 0.20). Use the multinomial non-parameteric hypotheses test to assess the proportions obtained at sites X and Y are statistically differnet\n",
    "\n"
   ]
  },
  {
   "cell_type": "code",
   "execution_count": 12,
   "id": "62d5e2c1",
   "metadata": {},
   "outputs": [],
   "source": [
    "coral_sp = c(\"P. lobata\",\"P. lobata\", \"M. capitata\", \"M. capitata\", \"P. mendrina\",\"P. mendrina\")\n",
    "ratios =c(0.60, 0.61, 0.19, 0.19, 0.21, 0.20)\n",
    "coral_proportions = tibble(coral_sp, ratios)"
   ]
  },
  {
   "cell_type": "code",
   "execution_count": 13,
   "id": "58da588f",
   "metadata": {},
   "outputs": [
    {
     "data": {
      "text/html": [
       "<table class=\"dataframe\">\n",
       "<caption>A tibble: 6 × 2</caption>\n",
       "<thead>\n",
       "\t<tr><th scope=col>coral_sp</th><th scope=col>ratios</th></tr>\n",
       "\t<tr><th scope=col>&lt;chr&gt;</th><th scope=col>&lt;dbl&gt;</th></tr>\n",
       "</thead>\n",
       "<tbody>\n",
       "\t<tr><td>P. lobata  </td><td>0.60</td></tr>\n",
       "\t<tr><td>P. lobata  </td><td>0.61</td></tr>\n",
       "\t<tr><td>M. capitata</td><td>0.19</td></tr>\n",
       "\t<tr><td>M. capitata</td><td>0.19</td></tr>\n",
       "\t<tr><td>P. mendrina</td><td>0.21</td></tr>\n",
       "\t<tr><td>P. mendrina</td><td>0.20</td></tr>\n",
       "</tbody>\n",
       "</table>\n"
      ],
      "text/latex": [
       "A tibble: 6 × 2\n",
       "\\begin{tabular}{ll}\n",
       " coral\\_sp & ratios\\\\\n",
       " <chr> & <dbl>\\\\\n",
       "\\hline\n",
       "\t P. lobata   & 0.60\\\\\n",
       "\t P. lobata   & 0.61\\\\\n",
       "\t M. capitata & 0.19\\\\\n",
       "\t M. capitata & 0.19\\\\\n",
       "\t P. mendrina & 0.21\\\\\n",
       "\t P. mendrina & 0.20\\\\\n",
       "\\end{tabular}\n"
      ],
      "text/markdown": [
       "\n",
       "A tibble: 6 × 2\n",
       "\n",
       "| coral_sp &lt;chr&gt; | ratios &lt;dbl&gt; |\n",
       "|---|---|\n",
       "| P. lobata   | 0.60 |\n",
       "| P. lobata   | 0.61 |\n",
       "| M. capitata | 0.19 |\n",
       "| M. capitata | 0.19 |\n",
       "| P. mendrina | 0.21 |\n",
       "| P. mendrina | 0.20 |\n",
       "\n"
      ],
      "text/plain": [
       "  coral_sp    ratios\n",
       "1 P. lobata   0.60  \n",
       "2 P. lobata   0.61  \n",
       "3 M. capitata 0.19  \n",
       "4 M. capitata 0.19  \n",
       "5 P. mendrina 0.21  \n",
       "6 P. mendrina 0.20  "
      ]
     },
     "metadata": {},
     "output_type": "display_data"
    }
   ],
   "source": [
    "tibble(coral_proportions)"
   ]
  },
  {
   "cell_type": "code",
   "execution_count": 21,
   "id": "0bb00e22",
   "metadata": {},
   "outputs": [
    {
     "data": {
      "text/html": [
       "0.095"
      ],
      "text/latex": [
       "0.095"
      ],
      "text/markdown": [
       "0.095"
      ],
      "text/plain": [
       "[1] 0.095"
      ]
     },
     "metadata": {},
     "output_type": "display_data"
    }
   ],
   "source": [
    "coral_multinom = function(){\n",
    "  true_proportions = c(0.60,0.19,0.21)\n",
    "  sample_proportions = rmultinom(1, 200, prob=c(0.61,0.19,0.20))/200\n",
    "  sample_tvd = sum(abs(true_proportions- sample_proportions))/2\n",
    "  sample_tvd\n",
    "    \n",
    "}\n",
    "coral_multinom()"
   ]
  },
  {
   "cell_type": "code",
   "execution_count": 23,
   "id": "f064e568",
   "metadata": {},
   "outputs": [],
   "source": [
    "subtract_abs = function(x){\n",
    "  abs(x[1] - x[2])\n",
    "}\n",
    "\n"
   ]
  },
  {
   "cell_type": "code",
   "execution_count": 26,
   "id": "1060ecaf",
   "metadata": {},
   "outputs": [
    {
     "data": {
      "text/html": [
       "0.01"
      ],
      "text/latex": [
       "0.01"
      ],
      "text/markdown": [
       "0.01"
      ],
      "text/plain": [
       "[1] 0.01"
      ]
     },
     "metadata": {},
     "output_type": "display_data"
    }
   ],
   "source": [
    "sum(tapply(coral_proportions$ratios, coral_proportions$coral_sp, subtract_abs))/2"
   ]
  },
  {
   "cell_type": "code",
   "execution_count": 17,
   "id": "e558f304",
   "metadata": {},
   "outputs": [
    {
     "data": {
      "text/html": [
       "0.95"
      ],
      "text/latex": [
       "0.95"
      ],
      "text/markdown": [
       "0.95"
      ],
      "text/plain": [
       "[1] 0.95"
      ]
     },
     "metadata": {},
     "output_type": "display_data"
    }
   ],
   "source": [
    "observed_stat = sum(tapply(coral_proportions$ratios, coral_proportions$coral_sp, subtract_abs))/2\n",
    "tvds = replicate(1000, coral_multinom())\n",
    "p_value = sum(tvds > observed_stat)/length(tvds)\n",
    "p_value"
   ]
  },
  {
   "cell_type": "code",
   "execution_count": 27,
   "id": "8f03e54e",
   "metadata": {},
   "outputs": [
    {
     "data": {
      "image/png": "[encoded data removed]",
      "text/plain": [
       "plot without title"
      ]
     },
     "metadata": {
      "image/png": {
       "height": 420,
       "width": 420
      }
     },
     "output_type": "display_data"
    }
   ],
   "source": [
    "ggplot()+ \n",
    "  geom_histogram(aes(tvds, ..density..), bins = 15) +\n",
    "  geom_point(aes(observed_stat, 0), size=5, color=\"red\")\n"
   ]
  },
  {
   "cell_type": "code",
   "execution_count": 84,
   "id": "0f65a26d",
   "metadata": {},
   "outputs": [
    {
     "data": {
      "text/html": [
       "0.05"
      ],
      "text/latex": [
       "0.05"
      ],
      "text/markdown": [
       "0.05"
      ],
      "text/plain": [
       "[1] 0.05"
      ]
     },
     "metadata": {},
     "output_type": "display_data"
    }
   ],
   "source": [
    "sum(tvds <= observed_stat) / length(tvds)"
   ]
  },
  {
   "cell_type": "code",
   "execution_count": null,
   "id": "131fba99",
   "metadata": {},
   "outputs": [],
   "source": []
  }
 ],
 "metadata": {
  "kernelspec": {
   "display_name": "R",
   "language": "R",
   "name": "ir"
  },
  "language_info": {
   "codemirror_mode": "r",
   "file_extension": ".r",
   "mimetype": "text/x-r-source",
   "name": "R",
   "pygments_lexer": "r",
   "version": "4.1.1"
  }
 },
 "nbformat": 4,
 "nbformat_minor": 5
}
